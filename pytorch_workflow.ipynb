{
  "nbformat": 4,
  "nbformat_minor": 0,
  "metadata": {
    "colab": {
      "provenance": [],
      "authorship_tag": "ABX9TyMiBAnY4xavAll8Kn/ResNW"
    },
    "kernelspec": {
      "name": "python3",
      "display_name": "Python 3"
    },
    "language_info": {
      "name": "python"
    }
  },
  "cells": [
    {
      "cell_type": "markdown",
      "source": [
        "# PyTorch Workflow\n",
        "\n",
        "1. Data - Preparation and Loading\n",
        "2. Model - Building\n",
        "3. Model - Fitting\n",
        "4. Model - Predictions and Evaluation\n",
        "5. Model - Saving and Loading\n",
        "6. Summarization"
      ],
      "metadata": {
        "id": "RbxRZ-l1ovrB"
      }
    },
    {
      "cell_type": "code",
      "source": [
        "import torch\n",
        "from torch import nn # Contains PyTorch's building blocks for Neural Networks\n",
        "import matplotlib.pyplot as plt"
      ],
      "metadata": {
        "id": "QqjZn-o8o6gt"
      },
      "execution_count": 1,
      "outputs": []
    },
    {
      "cell_type": "code",
      "source": [
        "torch.__version__"
      ],
      "metadata": {
        "colab": {
          "base_uri": "https://localhost:8080/",
          "height": 36
        },
        "id": "DdHqmE_GuxOF",
        "outputId": "1594a6f1-5145-41da-c9bf-05dfbab715da"
      },
      "execution_count": 2,
      "outputs": [
        {
          "output_type": "execute_result",
          "data": {
            "text/plain": [
              "'2.4.0+cu121'"
            ],
            "application/vnd.google.colaboratory.intrinsic+json": {
              "type": "string"
            }
          },
          "metadata": {},
          "execution_count": 2
        }
      ]
    },
    {
      "cell_type": "markdown",
      "source": [
        "## 1. Data - Preparation and Loading\n",
        "\n",
        "Types of data:\n",
        "\n",
        "* Excel spreadsheet\n",
        "* Images\n",
        "* Videos\n",
        "* Audio\n",
        "* DNA\n",
        "* Text\n",
        "\n",
        "Main ML steps:\n",
        "1. Get data into a numerical representation.\n",
        "2. Build a model to learn patterns in that numerical representation.\n",
        "\n",
        "\n",
        "**Parameter:** It's what a model learns."
      ],
      "metadata": {
        "id": "ssJctOg2vWGm"
      }
    },
    {
      "cell_type": "markdown",
      "source": [
        "### Create data using Linear Regression formula"
      ],
      "metadata": {
        "id": "vmnaXVmwvktT"
      }
    },
    {
      "cell_type": "markdown",
      "source": [
        "#### Create **known** parameters\n",
        "\n",
        "These are the values that we are going to try to obtain:"
      ],
      "metadata": {
        "id": "jHmac4qNzfjR"
      }
    },
    {
      "cell_type": "code",
      "source": [
        "weight = 0.7\n",
        "bias = 0.3"
      ],
      "metadata": {
        "id": "xRe27jXW0X-t"
      },
      "execution_count": 3,
      "outputs": []
    },
    {
      "cell_type": "code",
      "source": [
        "start = 0\n",
        "end = 1\n",
        "step = 0.02\n",
        "\n",
        "X = torch.arange(start, end, step).unsqueeze(dim=1)\n",
        "y = weight * X + bias # Linear Regression\n",
        "\n",
        "X[:10], y[:10]"
      ],
      "metadata": {
        "colab": {
          "base_uri": "https://localhost:8080/"
        },
        "id": "4WwlTRfz0rpW",
        "outputId": "cc376667-6d05-47ce-f94f-5239b33c81ca"
      },
      "execution_count": 4,
      "outputs": [
        {
          "output_type": "execute_result",
          "data": {
            "text/plain": [
              "(tensor([[0.0000],\n",
              "         [0.0200],\n",
              "         [0.0400],\n",
              "         [0.0600],\n",
              "         [0.0800],\n",
              "         [0.1000],\n",
              "         [0.1200],\n",
              "         [0.1400],\n",
              "         [0.1600],\n",
              "         [0.1800]]),\n",
              " tensor([[0.3000],\n",
              "         [0.3140],\n",
              "         [0.3280],\n",
              "         [0.3420],\n",
              "         [0.3560],\n",
              "         [0.3700],\n",
              "         [0.3840],\n",
              "         [0.3980],\n",
              "         [0.4120],\n",
              "         [0.4260]]))"
            ]
          },
          "metadata": {},
          "execution_count": 4
        }
      ]
    },
    {
      "cell_type": "markdown",
      "source": [
        "## Splitting data into training and test set"
      ],
      "metadata": {
        "id": "1qD6h3F407sZ"
      }
    },
    {
      "cell_type": "code",
      "source": [
        "train_split = int(0.8 * len(X))\n",
        "X_train, y_train = X[:train_split], y[:train_split]\n",
        "X_test, y_test = X[train_split:], y[train_split:]\n",
        "\n",
        "len(X_train), len(y_train), len(X_test), len(y_test)"
      ],
      "metadata": {
        "colab": {
          "base_uri": "https://localhost:8080/"
        },
        "id": "XbMXChXDpPUc",
        "outputId": "7fe93c42-772f-4e4b-c2df-48d0db501399"
      },
      "execution_count": 5,
      "outputs": [
        {
          "output_type": "execute_result",
          "data": {
            "text/plain": [
              "(40, 40, 10, 10)"
            ]
          },
          "metadata": {},
          "execution_count": 5
        }
      ]
    },
    {
      "cell_type": "code",
      "source": [
        "def plot_predictions(train_data=X_train,\n",
        "                     train_labels=y_train,\n",
        "                     test_data=X_test,\n",
        "                     test_labels=y_test,\n",
        "                     predictions=None):\n",
        "  plt.figure(figsize=(8, 6))\n",
        "  plt.scatter(train_data, train_labels, c=\"blue\", s=4, label=\"Training data\")\n",
        "  plt.scatter(test_data, test_labels, c=\"green\", s=4, label=\"Testing data\")\n",
        "\n",
        "  if predictions is not None:\n",
        "    plt.scatter(test_data, predictions, c=\"red\", s=4, label=\"Predicitons\")\n",
        "\n",
        "  plt.legend(prop={\"size\": 14})"
      ],
      "metadata": {
        "id": "MUSOITHTpUDZ"
      },
      "execution_count": 6,
      "outputs": []
    },
    {
      "cell_type": "code",
      "source": [
        "plot_predictions()"
      ],
      "metadata": {
        "colab": {
          "base_uri": "https://localhost:8080/",
          "height": 522
        },
        "id": "o2vvm6mYsyGt",
        "outputId": "981bea45-6771-49b2-a881-a0b7e2d8b5cc"
      },
      "execution_count": 7,
      "outputs": [
        {
          "output_type": "display_data",
          "data": {
            "text/plain": [
              "<Figure size 800x600 with 1 Axes>"
            ],
            "image/png": "[encoded data removed]"
          },
          "metadata": {}
        }
      ]
    },
    {
      "cell_type": "markdown",
      "source": [
        "## 2. Build a Model\n",
        "\n",
        "Linear Regression model example:"
      ],
      "metadata": {
        "id": "4VxtiuHfJ_dm"
      }
    },
    {
      "cell_type": "code",
      "source": [
        "class LinearRegressionModel(nn.Module):\n",
        "    def __init__(self):\n",
        "        super().__init__()\n",
        "        self.weights = nn.Parameter(torch.randn(1, dtype=torch.float), requires_grad=True)\n",
        "        self.bias = nn.Parameter(torch.randn(1, dtype=torch.float), requires_grad=True)\n",
        "\n",
        "    def forward(self, x: torch.Tensor) -> torch.Tensor:\n",
        "        return self.weights * x + self.bias # Linear Regression formula"
      ],
      "metadata": {
        "id": "9QvBiCuSJ8gp"
      },
      "execution_count": 8,
      "outputs": []
    },
    {
      "cell_type": "markdown",
      "source": [
        "### PyTorch model building essentials\n",
        "\n",
        "* torch.nn - Building blocks for computational graphs (neural networks)\n",
        "* torch.nn.Parameter - What parameters should our model try and learn. PyTorch layer takes care for us\n",
        "* torch.nn.Module - Base class for all network modules (override forward method)\n",
        "* toch.optim - Optimizations that help with gradient descent"
      ],
      "metadata": {
        "id": "vkMqbNQ1s1p-"
      }
    },
    {
      "cell_type": "markdown",
      "source": [
        "### Checking the contents of our PyTorch model\n",
        "\n",
        "We can use `.parameters()` to check out our model parameters."
      ],
      "metadata": {
        "id": "n1vvXYgcIOfz"
      }
    },
    {
      "cell_type": "code",
      "source": [
        "torch.manual_seed(42)\n",
        "\n",
        "model_0 = LinearRegressionModel()\n",
        "\n",
        "list(model_0.parameters())"
      ],
      "metadata": {
        "colab": {
          "base_uri": "https://localhost:8080/"
        },
        "id": "tFvrCKs0JKNj",
        "outputId": "d279e138-6028-416c-91a7-e96535cd15ef"
      },
      "execution_count": 9,
      "outputs": [
        {
          "output_type": "execute_result",
          "data": {
            "text/plain": [
              "[Parameter containing:\n",
              " tensor([0.3367], requires_grad=True),\n",
              " Parameter containing:\n",
              " tensor([0.1288], requires_grad=True)]"
            ]
          },
          "metadata": {},
          "execution_count": 9
        }
      ]
    },
    {
      "cell_type": "code",
      "source": [
        "list(model_0.state_dict())"
      ],
      "metadata": {
        "colab": {
          "base_uri": "https://localhost:8080/"
        },
        "id": "BFLT9ujiJY-D",
        "outputId": "26b6a2c4-7a7f-4664-9a93-4891b07ca650"
      },
      "execution_count": 10,
      "outputs": [
        {
          "output_type": "execute_result",
          "data": {
            "text/plain": [
              "['weights', 'bias']"
            ]
          },
          "metadata": {},
          "execution_count": 10
        }
      ]
    },
    {
      "cell_type": "markdown",
      "source": [
        "## Making prediction using `torch.inference_mode()`\n",
        "\n",
        "This turns off the gradient tracking. Essentially PyTorch disables tools that are only used during training consenquently boosts performance.\n",
        "We will see how well it predicts `y_test` based on `X_test`."
      ],
      "metadata": {
        "id": "S2MfxXbAKupX"
      }
    },
    {
      "cell_type": "code",
      "source": [
        "with torch.inference_mode(): # Context manager\n",
        "  y_preds = model_0(X_test)\n",
        "\n",
        "y_preds"
      ],
      "metadata": {
        "colab": {
          "base_uri": "https://localhost:8080/"
        },
        "id": "gntEt81WMl7R",
        "outputId": "493d146e-73d0-43af-a009-af6bdb60348b"
      },
      "execution_count": 11,
      "outputs": [
        {
          "output_type": "execute_result",
          "data": {
            "text/plain": [
              "tensor([[0.3982],\n",
              "        [0.4049],\n",
              "        [0.4116],\n",
              "        [0.4184],\n",
              "        [0.4251],\n",
              "        [0.4318],\n",
              "        [0.4386],\n",
              "        [0.4453],\n",
              "        [0.4520],\n",
              "        [0.4588]])"
            ]
          },
          "metadata": {},
          "execution_count": 11
        }
      ]
    },
    {
      "cell_type": "code",
      "source": [
        "y_test"
      ],
      "metadata": {
        "colab": {
          "base_uri": "https://localhost:8080/"
        },
        "id": "bvbTlkMEM0LO",
        "outputId": "cd7f7e75-fed9-47ca-ffa6-662d27f40de7"
      },
      "execution_count": 12,
      "outputs": [
        {
          "output_type": "execute_result",
          "data": {
            "text/plain": [
              "tensor([[0.8600],\n",
              "        [0.8740],\n",
              "        [0.8880],\n",
              "        [0.9020],\n",
              "        [0.9160],\n",
              "        [0.9300],\n",
              "        [0.9440],\n",
              "        [0.9580],\n",
              "        [0.9720],\n",
              "        [0.9860]])"
            ]
          },
          "metadata": {},
          "execution_count": 12
        }
      ]
    },
    {
      "cell_type": "code",
      "source": [
        "plot_predictions(predictions=y_preds)"
      ],
      "metadata": {
        "colab": {
          "base_uri": "https://localhost:8080/",
          "height": 522
        },
        "id": "F-0-rbmBNPto",
        "outputId": "768bb6dd-a943-4270-8e30-d0ceae516281"
      },
      "execution_count": 13,
      "outputs": [
        {
          "output_type": "display_data",
          "data": {
            "text/plain": [
              "<Figure size 800x600 with 1 Axes>"
            ],
            "image/png": "[encoded data removed]"
          },
          "metadata": {}
        }
      ]
    },
    {
      "cell_type": "markdown",
      "source": [
        "## 3. Train Model\n",
        "\n",
        "When dealing with models the aim is to move from some *unknown* parameters (these may be random) to *known* parameters.\n",
        "\n",
        "A loss function (or cost function) is a way to measure how bad the model is.\n",
        "\n",
        "**Loss function:** A function to measure how wrong your model's predictions are to the ideal outputs, lower is better.\n",
        "\n",
        "**Optimizer:** Takes into account the loss of a model and adjusts the model's parameters (e.g. weight and bias) to improve the loss function.\n",
        "\n",
        "**OBS:** `torch.autograd` calculates the gradients automatically in order to find the parameters with the smallest loss values. This is done by the optimizer.\n",
        "\n",
        "And specifically dor PyTorch, we need:\n",
        "* A training loop\n",
        "* A testing loop"
      ],
      "metadata": {
        "id": "9dPUZ1UONVbi"
      }
    },
    {
      "cell_type": "markdown",
      "source": [
        " ### Setup a loss function"
      ],
      "metadata": {
        "id": "3o2PWC0P55GP"
      }
    },
    {
      "cell_type": "code",
      "source": [
        "loss_fn = nn.L1Loss()"
      ],
      "metadata": {
        "id": "WMw4kq5w-H-_"
      },
      "execution_count": 14,
      "outputs": []
    },
    {
      "cell_type": "markdown",
      "source": [
        "### Setup an optimizer"
      ],
      "metadata": {
        "id": "inN6j998-N_d"
      }
    },
    {
      "cell_type": "code",
      "source": [
        "optimizer = torch.optim.SGD(params=model_0.parameters(),\n",
        "                            lr=0.01) # Most important hyperparameter, the step taken in the random value (change in the parameter, when giding the minimum value in the loss graph)"
      ],
      "metadata": {
        "id": "4ddlKdw8-RFv"
      },
      "execution_count": 15,
      "outputs": []
    },
    {
      "cell_type": "markdown",
      "source": [
        "## PyTorch training loop\n",
        "\n",
        "For the training loop, we'll build the following steps:\n",
        "\n",
        "| Number | Step name                               | What does it do?                                                                                                                             | Code example                  |\n",
        "|--------|-----------------------------------------|-----------------------------------------------------------------------------------------------------------------------------------------------|-------------------------------|\n",
        "| 1      | Forward pass                            | The model goes through all of the training data once, performing its `forward()` function calculations.                                        | `model(x_train)`              |\n",
        "| 2      | Calculate the loss                      | The model's outputs (predictions) are compared to the ground truth and evaluated to see how wrong they are.                                    | `loss = loss_fn(y_pred, y_train)` |\n",
        "| 3      | Zero gradients                          | The optimizers gradients are set to zero (they are accumulated by default) so they can be recalculated for the specific training step.         | `optimizer.zero_grad()`        |\n",
        "| 4      | Perform backpropagation on the loss     | Computes the gradient of the loss with respect to every model parameter to be updated (each parameter with `requires_grad=True`). This is known as backpropagation, hence \"backwards\". | `loss.backward()`              |\n",
        "| 5      | Update the optimizer (gradient descent) | Update the parameters with `requires_grad=True` with respect to the loss gradients in order to improve them.                                   | `optimizer.step()`             |\n"
      ],
      "metadata": {
        "id": "PL04xOTtFuBF"
      }
    },
    {
      "cell_type": "code",
      "source": [
        "epochs = 100000 # Loop through the data (hyperparameter)\n",
        "\n",
        "# 0. Loop through the data\n",
        "for epoch in range(epochs):\n",
        "  # Set the model to training mode (enables gradient)\n",
        "  model_0.train()\n",
        "\n",
        "  # 1. Forward pass (performs the forward method)\n",
        "  y_pred = model_0(X_train)\n",
        "\n",
        "  # 2. Calculate the loss\n",
        "  loss = loss_fn(y_pred, y_train)\n",
        "\n",
        "  # 3. Optimizer zero grad. It zeros the gradients of the optimizer (they accumulate by default).\n",
        "  optimizer.zero_grad()\n",
        "\n",
        "  # 4. Perform backpropagation on the loss with respect to the parameters of the model\n",
        "  loss.backward()\n",
        "\n",
        "  # 5. Step the optimizer (perform gradient descent)\n",
        "  optimizer.step() # How the optimizer change will accumulate through the loop\n",
        "\n",
        "\n",
        "  # Disable gradient tracking\n",
        "  model_0.eval()"
      ],
      "metadata": {
        "id": "v9HM-RENIh5j"
      },
      "execution_count": 25,
      "outputs": []
    },
    {
      "cell_type": "code",
      "source": [
        "model_0.state_dict() # We don't know the values that we need to get closer to in real life problems"
      ],
      "metadata": {
        "id": "e4z8f-mWOvSO",
        "outputId": "70478d96-1d04-45fd-8d0f-54456431e2bd",
        "colab": {
          "base_uri": "https://localhost:8080/"
        }
      },
      "execution_count": 26,
      "outputs": [
        {
          "output_type": "execute_result",
          "data": {
            "text/plain": [
              "OrderedDict([('weights', tensor([0.6951])), ('bias', tensor([0.2993]))])"
            ]
          },
          "metadata": {},
          "execution_count": 26
        }
      ]
    },
    {
      "cell_type": "code",
      "source": [
        "with torch.inference_mode():\n",
        "  y_preds_new = model_0(X_test)"
      ],
      "metadata": {
        "id": "i93PvpXfM9Hh"
      },
      "execution_count": 27,
      "outputs": []
    },
    {
      "cell_type": "code",
      "source": [
        "plot_predictions(predictions=y_preds_new)"
      ],
      "metadata": {
        "id": "mpz9w8xTOOgt",
        "outputId": "4c81f911-e1fc-4017-cabb-80d3fc4f02e2",
        "colab": {
          "base_uri": "https://localhost:8080/",
          "height": 522
        }
      },
      "execution_count": 28,
      "outputs": [
        {
          "output_type": "display_data",
          "data": {
            "text/plain": [
              "<Figure size 800x600 with 1 Axes>"
            ],
            "image/png": "[encoded data removed]"
          },
          "metadata": {}
        }
      ]
    },
    {
      "cell_type": "code",
      "source": [],
      "metadata": {
        "id": "Y1ck6r86OPwD"
      },
      "execution_count": null,
      "outputs": []
    }
  ]
}