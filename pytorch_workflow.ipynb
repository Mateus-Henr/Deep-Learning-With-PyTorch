{
  "nbformat": 4,
  "nbformat_minor": 0,
  "metadata": {
    "colab": {
      "provenance": [],
      "authorship_tag": "ABX9TyNWR2Y+iwR36YIoNBXia0ZA"
    },
    "kernelspec": {
      "name": "python3",
      "display_name": "Python 3"
    },
    "language_info": {
      "name": "python"
    }
  },
  "cells": [
    {
      "cell_type": "markdown",
      "source": [
        "# PyTorch Workflow\n",
        "\n",
        "1. Data - Preparation and Loading\n",
        "2. Model - Building\n",
        "3. Model - Fitting\n",
        "4. Model - Predictions and Evaluation\n",
        "5. Model - Saving and Loading\n",
        "6. Summarization"
      ],
      "metadata": {
        "id": "RbxRZ-l1ovrB"
      }
    },
    {
      "cell_type": "code",
      "source": [
        "import torch\n",
        "from torch import nn # Contains PyTorch's building blocks for Neural Networks\n",
        "import matplotlib.pyplot as plt"
      ],
      "metadata": {
        "id": "QqjZn-o8o6gt"
      },
      "execution_count": 1,
      "outputs": []
    },
    {
      "cell_type": "code",
      "source": [
        "torch.__version__"
      ],
      "metadata": {
        "colab": {
          "base_uri": "https://localhost:8080/",
          "height": 36
        },
        "id": "DdHqmE_GuxOF",
        "outputId": "5cb58d7e-3a13-4cc0-e00e-9822fe0614f0"
      },
      "execution_count": 2,
      "outputs": [
        {
          "output_type": "execute_result",
          "data": {
            "text/plain": [
              "'2.4.0+cu121'"
            ],
            "application/vnd.google.colaboratory.intrinsic+json": {
              "type": "string"
            }
          },
          "metadata": {},
          "execution_count": 2
        }
      ]
    },
    {
      "cell_type": "markdown",
      "source": [
        "## 1. Data - Preparation and Loading\n",
        "\n",
        "Types of data:\n",
        "\n",
        "* Excel spreadsheet\n",
        "* Images\n",
        "* Videos\n",
        "* Audio\n",
        "* DNA\n",
        "* Text\n",
        "\n",
        "Main ML steps:\n",
        "1. Get data into a numerical representation.\n",
        "2. Build a model to learn patterns in that numerical representation.\n",
        "\n",
        "\n",
        "**Parameter:** It's what a model learns."
      ],
      "metadata": {
        "id": "ssJctOg2vWGm"
      }
    },
    {
      "cell_type": "markdown",
      "source": [
        "### Create data using Linear Regression formula"
      ],
      "metadata": {
        "id": "vmnaXVmwvktT"
      }
    },
    {
      "cell_type": "markdown",
      "source": [
        "#### Create **known** parameters\n",
        "\n",
        "These are the values that we are going to try to obtain:"
      ],
      "metadata": {
        "id": "jHmac4qNzfjR"
      }
    },
    {
      "cell_type": "code",
      "source": [
        "weight = 0.7\n",
        "bias = 0.3"
      ],
      "metadata": {
        "id": "xRe27jXW0X-t"
      },
      "execution_count": 3,
      "outputs": []
    },
    {
      "cell_type": "code",
      "source": [
        "start = 0\n",
        "end = 1\n",
        "step = 0.02\n",
        "\n",
        "X = torch.arange(start, end, step).unsqueeze(dim=1)\n",
        "y = weight * X + bias # Linear Regression\n",
        "\n",
        "X[:10], y[:10]"
      ],
      "metadata": {
        "colab": {
          "base_uri": "https://localhost:8080/"
        },
        "id": "4WwlTRfz0rpW",
        "outputId": "df11a1c4-0675-422a-b753-60d2fc315955"
      },
      "execution_count": 4,
      "outputs": [
        {
          "output_type": "execute_result",
          "data": {
            "text/plain": [
              "(tensor([[0.0000],\n",
              "         [0.0200],\n",
              "         [0.0400],\n",
              "         [0.0600],\n",
              "         [0.0800],\n",
              "         [0.1000],\n",
              "         [0.1200],\n",
              "         [0.1400],\n",
              "         [0.1600],\n",
              "         [0.1800]]),\n",
              " tensor([[0.3000],\n",
              "         [0.3140],\n",
              "         [0.3280],\n",
              "         [0.3420],\n",
              "         [0.3560],\n",
              "         [0.3700],\n",
              "         [0.3840],\n",
              "         [0.3980],\n",
              "         [0.4120],\n",
              "         [0.4260]]))"
            ]
          },
          "metadata": {},
          "execution_count": 4
        }
      ]
    },
    {
      "cell_type": "markdown",
      "source": [
        "## Splitting data into training and test set"
      ],
      "metadata": {
        "id": "1qD6h3F407sZ"
      }
    },
    {
      "cell_type": "code",
      "source": [
        "train_split = int(0.8 * len(X))\n",
        "X_train, y_train = X[:train_split], y[:train_split]\n",
        "X_test, y_test = X[train_split:], y[train_split:]\n",
        "\n",
        "len(X_train), len(y_train), len(X_test), len(y_test)"
      ],
      "metadata": {
        "colab": {
          "base_uri": "https://localhost:8080/"
        },
        "id": "XbMXChXDpPUc",
        "outputId": "0e4d3217-76b9-4601-936e-e05c7eca61a4"
      },
      "execution_count": 5,
      "outputs": [
        {
          "output_type": "execute_result",
          "data": {
            "text/plain": [
              "(40, 40, 10, 10)"
            ]
          },
          "metadata": {},
          "execution_count": 5
        }
      ]
    },
    {
      "cell_type": "code",
      "source": [
        "def plot_predictions(train_data=X_train,\n",
        "                     train_labels=y_train,\n",
        "                     test_data=X_test,\n",
        "                     test_labels=y_test,\n",
        "                     predictions=None):\n",
        "  plt.figure(figsize=(8, 6))\n",
        "  plt.scatter(train_data, train_labels, c=\"blue\", s=4, label=\"Training data\")\n",
        "  plt.scatter(test_data, test_labels, c=\"green\", s=4, label=\"Testing data\")\n",
        "\n",
        "  if predictions is not None:\n",
        "    plt.scatter(test_data, predictions, c=\"red\", s=4, label=\"Predicitons\")\n",
        "\n",
        "  plt.legend(prop={\"size\": 14})"
      ],
      "metadata": {
        "id": "MUSOITHTpUDZ"
      },
      "execution_count": 6,
      "outputs": []
    },
    {
      "cell_type": "code",
      "source": [
        "plot_predictions()"
      ],
      "metadata": {
        "colab": {
          "base_uri": "https://localhost:8080/",
          "height": 522
        },
        "id": "o2vvm6mYsyGt",
        "outputId": "cb6f3162-81ac-4427-edcc-7c1727fddcf5"
      },
      "execution_count": 7,
      "outputs": [
        {
          "output_type": "display_data",
          "data": {
            "text/plain": [
              "<Figure size 800x600 with 1 Axes>"
            ],
            "image/png": "[encoded data removed]"
          },
          "metadata": {}
        }
      ]
    },
    {
      "cell_type": "markdown",
      "source": [
        "## 2. Build a Model\n",
        "\n",
        "Linear Regression model example:"
      ],
      "metadata": {
        "id": "4VxtiuHfJ_dm"
      }
    },
    {
      "cell_type": "code",
      "source": [
        "class LinearRegressionModel(nn.Module):\n",
        "    def __init__(self):\n",
        "        super().__init__()\n",
        "        self.weights = nn.Parameter(torch.randn(1, dtype=torch.float), requires_grad=True)\n",
        "        self.bias = nn.Parameter(torch.randn(1, dtype=torch.float), requires_grad=True)\n",
        "\n",
        "    def forward(self, x: torch.Tensor) -> torch.Tensor:\n",
        "        return self.weights * x + self.bias # Linear Regression formula"
      ],
      "metadata": {
        "id": "9QvBiCuSJ8gp"
      },
      "execution_count": 10,
      "outputs": []
    },
    {
      "cell_type": "markdown",
      "source": [
        "### PyTorch model building essentials\n",
        "\n",
        "* torch.nn - Building blocks for computational graphs (neural networks)\n",
        "* torch.nn.Parameter - What parameters should our model try and learn. PyTorch layer takes care for us\n",
        "* torch.nn.Module - Base class for all network modules (override forward method)\n",
        "* toch.optim - Optimizations that help with gradient descent"
      ],
      "metadata": {
        "id": "vkMqbNQ1s1p-"
      }
    },
    {
      "cell_type": "markdown",
      "source": [
        "### Checking the contents of our PyTorch model\n",
        "\n",
        "We can use `.parameters()` to check out our model parameters."
      ],
      "metadata": {
        "id": "n1vvXYgcIOfz"
      }
    },
    {
      "cell_type": "code",
      "source": [
        "torch.manual_seed(42)\n",
        "\n",
        "model_0 = LinearRegressionModel()\n",
        "\n",
        "list(model_0.parameters())"
      ],
      "metadata": {
        "id": "tFvrCKs0JKNj",
        "outputId": "4f0df21e-bd0d-4fe9-b486-c3447df3f4d6",
        "colab": {
          "base_uri": "https://localhost:8080/"
        }
      },
      "execution_count": 12,
      "outputs": [
        {
          "output_type": "execute_result",
          "data": {
            "text/plain": [
              "[Parameter containing:\n",
              " tensor([0.3367], requires_grad=True),\n",
              " Parameter containing:\n",
              " tensor([0.1288], requires_grad=True)]"
            ]
          },
          "metadata": {},
          "execution_count": 12
        }
      ]
    },
    {
      "cell_type": "code",
      "source": [
        "list(model_0.state_dict())"
      ],
      "metadata": {
        "id": "BFLT9ujiJY-D",
        "outputId": "ebb00e5d-6bc4-4a0b-d21c-2cb43d7db724",
        "colab": {
          "base_uri": "https://localhost:8080/"
        }
      },
      "execution_count": 18,
      "outputs": [
        {
          "output_type": "execute_result",
          "data": {
            "text/plain": [
              "['weights', 'bias']"
            ]
          },
          "metadata": {},
          "execution_count": 18
        }
      ]
    },
    {
      "cell_type": "markdown",
      "source": [
        "## Making prediction using `torch.inference_mode()`\n",
        "\n",
        "This turns off the gradient tracking. Essentially PyTorch disables tools that are only used during training consenquently boosts performance.\n",
        "We will see how well it predicts `y_test` based on `X_test`."
      ],
      "metadata": {
        "id": "S2MfxXbAKupX"
      }
    },
    {
      "cell_type": "code",
      "source": [
        "with torch.inference_mode(): # Context manager\n",
        "  y_preds = model_0(X_test)\n",
        "\n",
        "y_preds"
      ],
      "metadata": {
        "id": "gntEt81WMl7R",
        "outputId": "c5ece811-1f13-4303-81ce-121722689b95",
        "colab": {
          "base_uri": "https://localhost:8080/"
        }
      },
      "execution_count": 19,
      "outputs": [
        {
          "output_type": "execute_result",
          "data": {
            "text/plain": [
              "tensor([[0.3982],\n",
              "        [0.4049],\n",
              "        [0.4116],\n",
              "        [0.4184],\n",
              "        [0.4251],\n",
              "        [0.4318],\n",
              "        [0.4386],\n",
              "        [0.4453],\n",
              "        [0.4520],\n",
              "        [0.4588]])"
            ]
          },
          "metadata": {},
          "execution_count": 19
        }
      ]
    },
    {
      "cell_type": "code",
      "source": [
        "y_test"
      ],
      "metadata": {
        "id": "bvbTlkMEM0LO",
        "outputId": "9fad7305-4460-48e5-ffa7-8707b0c51360",
        "colab": {
          "base_uri": "https://localhost:8080/"
        }
      },
      "execution_count": 20,
      "outputs": [
        {
          "output_type": "execute_result",
          "data": {
            "text/plain": [
              "tensor([[0.8600],\n",
              "        [0.8740],\n",
              "        [0.8880],\n",
              "        [0.9020],\n",
              "        [0.9160],\n",
              "        [0.9300],\n",
              "        [0.9440],\n",
              "        [0.9580],\n",
              "        [0.9720],\n",
              "        [0.9860]])"
            ]
          },
          "metadata": {},
          "execution_count": 20
        }
      ]
    },
    {
      "cell_type": "code",
      "source": [
        "plot_predictions(predictions=y_preds)"
      ],
      "metadata": {
        "id": "F-0-rbmBNPto",
        "outputId": "e6d19396-6648-4e0d-8846-5d55bedfc08e",
        "colab": {
          "base_uri": "https://localhost:8080/",
          "height": 522
        }
      },
      "execution_count": 21,
      "outputs": [
        {
          "output_type": "display_data",
          "data": {
            "text/plain": [
              "<Figure size 800x600 with 1 Axes>"
            ],
            "image/png": "[encoded data removed]"
          },
          "metadata": {}
        }
      ]
    },
    {
      "cell_type": "code",
      "source": [],
      "metadata": {
        "id": "9dPUZ1UONVbi"
      },
      "execution_count": null,
      "outputs": []
    }
  ]
}