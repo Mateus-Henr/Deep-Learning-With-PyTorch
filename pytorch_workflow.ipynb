{
  "nbformat": 4,
  "nbformat_minor": 0,
  "metadata": {
    "colab": {
      "provenance": []
    },
    "kernelspec": {
      "name": "python3",
      "display_name": "Python 3"
    },
    "language_info": {
      "name": "python"
    }
  },
  "cells": [
    {
      "cell_type": "markdown",
      "source": [
        "# PyTorch Workflow\n",
        "\n",
        "1. Data - Preparation and Loading\n",
        "2. Model - Building\n",
        "3. Model - Fitting\n",
        "4. Model - Predictions and Evaluation\n",
        "5. Model - Saving and Loading\n",
        "6. Summarization"
      ],
      "metadata": {
        "id": "RbxRZ-l1ovrB"
      }
    },
    {
      "cell_type": "code",
      "source": [
        "import torch\n",
        "from torch import nn # Contains PyTorch's building blocks for Neural Networks\n",
        "import matplotlib.pyplot as plt"
      ],
      "metadata": {
        "id": "QqjZn-o8o6gt"
      },
      "execution_count": 2,
      "outputs": []
    },
    {
      "cell_type": "code",
      "source": [
        "torch.__version__"
      ],
      "metadata": {
        "colab": {
          "base_uri": "https://localhost:8080/",
          "height": 36
        },
        "id": "DdHqmE_GuxOF",
        "outputId": "1e6d246d-b500-4c0f-9bef-0c465fc4a028"
      },
      "execution_count": 3,
      "outputs": [
        {
          "output_type": "execute_result",
          "data": {
            "text/plain": [
              "'2.4.0+cu121'"
            ],
            "application/vnd.google.colaboratory.intrinsic+json": {
              "type": "string"
            }
          },
          "metadata": {},
          "execution_count": 3
        }
      ]
    },
    {
      "cell_type": "markdown",
      "source": [
        "## 1. Data - Preparation and Loading\n",
        "\n",
        "Types of data:\n",
        "\n",
        "* Excel spreadsheet\n",
        "* Images\n",
        "* Videos\n",
        "* Audio\n",
        "* DNA\n",
        "* Text\n",
        "\n",
        "Main ML steps:\n",
        "1. Get data into a numerical representation.\n",
        "2. Build a model to learn patterns in that numerical representation."
      ],
      "metadata": {
        "id": "ssJctOg2vWGm"
      }
    },
    {
      "cell_type": "code",
      "source": [],
      "metadata": {
        "id": "vmnaXVmwvktT"
      },
      "execution_count": null,
      "outputs": []
    }
  ]
}